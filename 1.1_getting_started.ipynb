{
 "cells": [
  {
   "cell_type": "code",
   "execution_count": 1,
   "metadata": {},
   "outputs": [
    {
     "data": {
      "text/plain": [
       "True"
      ]
     },
     "execution_count": 1,
     "metadata": {},
     "output_type": "execute_result"
    }
   ],
   "source": [
    "# importing libraries and loading env variables\n",
    "import os\n",
    "from dotenv import load_dotenv\n",
    "load_dotenv()"
   ]
  },
  {
   "cell_type": "code",
   "execution_count": 5,
   "metadata": {},
   "outputs": [],
   "source": [
    "os.environ[\"OPENAI_API_KEY\"] = os.getenv(\"OPENAI_API_KEY\")\n",
    "## Langsmith Tracking and Tracing\n",
    "os.environ[\"LANGCHAIN_API_KEY\"] = os.getenv(\"LANGCHAIN_API_KEY\")\n",
    "os.environ[\"LANGCHAIN_TRACING_V2\"] = \"true\"\n",
    "os.environ[\"LANGCHAIN_PROJECT_KEY\"] = os.getenv(\"LANGCHAIN_PROJECT_KEY\")"
   ]
  },
  {
   "cell_type": "code",
   "execution_count": 6,
   "metadata": {},
   "outputs": [
    {
     "name": "stdout",
     "output_type": "stream",
     "text": [
      "client=<openai.resources.chat.completions.Completions object at 0x1180e7a40> async_client=<openai.resources.chat.completions.AsyncCompletions object at 0x1047fe660> root_client=<openai.OpenAI object at 0x1076336e0> root_async_client=<openai.AsyncOpenAI object at 0x1180e7aa0> model_name='o3-mini' model_kwargs={} openai_api_key=SecretStr('**********')\n"
     ]
    }
   ],
   "source": [
    "from langchain_openai import ChatOpenAI\n",
    "llm = ChatOpenAI(model=\"o3-mini\")\n",
    "print(llm)"
   ]
  },
  {
   "cell_type": "code",
   "execution_count": 8,
   "metadata": {},
   "outputs": [
    {
     "name": "stdout",
     "output_type": "stream",
     "text": [
      "Agentic AI refers to artificial intelligence systems that operate with a degree of autonomy—essentially, AI \"agents\" that can formulate goals, make decisions, and take actions on their own rather than merely executing predetermined or externally specified instructions.\n",
      "\n",
      "Key aspects of agentic AI include:\n",
      "\n",
      "1. Autonomy: Unlike systems that are simply tools responding to explicit commands (often called \"tool AI\"), an agentic system is designed to set and pursue its own goals. It acts as an autonomous agent in an environment, deciding what steps to take based on its objectives and the situation at hand.\n",
      "\n",
      "2. Goal-directed behavior: Agentic AI systems are built to achieve specific outcomes. They are equipped with mechanisms (like planning, reasoning, or reinforcement learning) that enable them to determine what actions will bring them closer to their goals.\n",
      "\n",
      "3. Decision-making and adaptability: These systems analyze their environment, assess potential actions, and adjust their behavior when conditions change. This decision-making process can make them more flexible and effective in dynamic contexts, but it also adds layers of complexity, especially in ensuring that their goals align with human values or intended outcomes.\n",
      "\n",
      "4. Related discussions in AI safety and alignment: In debates about advanced artificial intelligence—particularly when it comes to long-term safety—agentic AI is often discussed because its capacity for autonomous decision-making could lead to unpredictable or unintended behaviors if its goals are not properly aligned with human interests. This contrasts with non-agentic or tool-like AI, which are seen as simpler to control since they do not generate independent objectives.\n",
      "\n",
      "In summary, agentic AI represents systems that do more than follow straightforward instructions; they possess a kind of agency by autonomously setting and pursuing objectives. This makes them powerful and versatile—but also demands careful design and oversight to ensure that such autonomy remains safe and beneficial.\n"
     ]
    }
   ],
   "source": [
    "result = llm.invoke(\"What is agentic AI?\")\n",
    "print(result.content)\n"
   ]
  },
  {
   "cell_type": "markdown",
   "metadata": {},
   "source": []
  },
  {
   "cell_type": "code",
   "execution_count": 9,
   "metadata": {},
   "outputs": [
    {
     "data": {
      "text/plain": [
       "ChatPromptTemplate(input_variables=['input'], input_types={}, partial_variables={}, messages=[SystemMessagePromptTemplate(prompt=PromptTemplate(input_variables=[], input_types={}, partial_variables={}, template='You are an expert AI engineer. Provide me answer based on the question'), additional_kwargs={}), HumanMessagePromptTemplate(prompt=PromptTemplate(input_variables=['input'], input_types={}, partial_variables={}, template='{input}'), additional_kwargs={})])"
      ]
     },
     "execution_count": 9,
     "metadata": {},
     "output_type": "execute_result"
    }
   ],
   "source": [
    "from langchain_core.prompts import ChatPromptTemplate\n",
    "prompt = ChatPromptTemplate.from_messages(\n",
    "    [\n",
    "        (\"system\", \"You are an expert AI engineer. Provide me answer based on the question\"),\n",
    "        (\"user\", \"{input}\")\n",
    "    ]\n",
    ")\n",
    "prompt"
   ]
  },
  {
   "cell_type": "code",
   "execution_count": 11,
   "metadata": {},
   "outputs": [
    {
     "name": "stdout",
     "output_type": "stream",
     "text": [
      "LangSmith is a platform designed to help developers build, monitor, and debug applications powered by large language models (LLMs). It was created with the idea of providing better observability into the workflows—often called \"chains\"—that combine multiple LLM calls and other logic into complete applications. Here are some of the key aspects of LangSmith:\n",
      "\n",
      "1. Tracking and Monitoring:  \n",
      "   LangSmith logs the various stages of an application’s execution. It captures inputs, outputs, and intermediate states of LLM chains. This detailed logging makes it easier to see what’s happening under the hood, which is especially useful for complex, multi-step processes.\n",
      "\n",
      "2. Debugging and Troubleshooting:  \n",
      "   By exposing detailed metadata and execution details, LangSmith lets developers drill down into failed or suboptimal runs. This insight can be essential for diagnosing issues, understanding unexpected behaviors, and iteratively refining the application’s performance.\n",
      "\n",
      "3. Visual Interface and Analytics:  \n",
      "   The platform typically offers a visual dashboard where you can review historical runs, compare performance, and track metrics over time. This helps in both real-time monitoring and long-term performance analysis.\n",
      "\n",
      "4. Integration with LLM Frameworks:  \n",
      "   LangSmith is often associated with ecosystems like LangChain, a popular framework for building LLM-powered applications. Its design is complementary to these frameworks, making it easier to integrate advanced monitoring without extensive extra development overhead.\n",
      "\n",
      "5. Production-Grade Operation:  \n",
      "   While LangSmith is useful during development, its features also cater to production use-cases. The insights and logging capabilities help maintain reliability and performance in live environments, ensuring that any issues can be quickly identified and corrected.\n",
      "\n",
      "In summary, if you’re building systems that leverage large language models—especially complex chains combining multiple components—LangSmith offers a robust set of tools to help you keep an eye on what’s happening, quickly identify potential issues, and optimize your application's overall performance.\n"
     ]
    }
   ],
   "source": [
    "chain = prompt|llm\n",
    "response = chain.invoke({\"input\": \"Can you tell me about langsmith\"})\n",
    "print(response.content)"
   ]
  },
  {
   "cell_type": "code",
   "execution_count": 12,
   "metadata": {},
   "outputs": [
    {
     "name": "stdout",
     "output_type": "stream",
     "text": [
      "Sachin Tendulkar is a retired Indian cricketer widely regarded as one of the greatest batsmen in the history of cricket. Often nicknamed \"The Little Master\" or \"Master Blaster,\" he made his debut for the Indian national cricket team as a teenager and went on to enjoy a career spanning over two decades.\n",
      "\n",
      "Some key points about Sachin Tendulkar include:\n",
      "\n",
      "• Early Career: He debuted for India at the age of 16, quickly establishing himself as a prodigious talent in international cricket.\n",
      "• Record-Breaking Achievements: Tendulkar holds numerous records, including being the highest run-scorer in both Test and One Day International (ODI) cricket. He is the first player to score a double century in an ODI match.\n",
      "• Impact on Cricket: Beyond records, his graceful technique and consistent performances under pressure have earned him widespread admiration from cricket fans and experts around the world.\n",
      "• Legacy: Tendulkar's influence goes beyond the statistics; he has inspired generations of cricketers and remains a pivotal figure in popularizing cricket both in India and globally.\n",
      "\n",
      "Overall, Sachin Tendulkar's career and achievements have left an indelible mark on the world of cricket, making him a true legend of the sport.\n"
     ]
    }
   ],
   "source": [
    "from langchain_core.output_parsers import StrOutputParser\n",
    "output_parser = StrOutputParser()\n",
    "chain = prompt|llm|output_parser\n",
    "response = chain.invoke({\"input\":\"Who is Sachin Tendulkar\"})\n",
    "print(response)"
   ]
  },
  {
   "cell_type": "markdown",
   "metadata": {},
   "source": [
    "# RAG"
   ]
  },
  {
   "cell_type": "code",
   "execution_count": null,
   "metadata": {},
   "outputs": [],
   "source": [
    "from langchain_community.document_loaders import WebBaseLoader\n",
    "loader = WebBaseLoader(\"https://python.langchain.com/docs/tutorials/llm_chain/\")\n",
    "document = "
   ]
  }
 ],
 "metadata": {
  "kernelspec": {
   "display_name": "env",
   "language": "python",
   "name": "python3"
  },
  "language_info": {
   "codemirror_mode": {
    "name": "ipython",
    "version": 3
   },
   "file_extension": ".py",
   "mimetype": "text/x-python",
   "name": "python",
   "nbconvert_exporter": "python",
   "pygments_lexer": "ipython3",
   "version": "3.12.7"
  }
 },
 "nbformat": 4,
 "nbformat_minor": 2
}
